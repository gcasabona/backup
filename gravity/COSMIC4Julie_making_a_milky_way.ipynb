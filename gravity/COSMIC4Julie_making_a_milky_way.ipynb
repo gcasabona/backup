{
 "cells": [
  {
   "cell_type": "markdown",
   "metadata": {
    "colab_type": "text",
    "id": "NT931C3msy87"
   },
   "source": [
    "![milky](https://www.sciencealert.com/images/2019-10/processed/denis-degioanni-9wH624ALFQA-unsplash_1_1024.jpg)\n",
    "# *Generating a MILKY WAY binary population*\n",
    "## Goals and overview : *a Milky-Way-like fixed population*\n",
    "\n",
    "Here, we plan to use `COSMIC`'s abilities to \n",
    "\n",
    "(1) come up with an initial ZAMS (Zero Age Main Sequence) population, \n",
    "\n",
    "(2) evolve it through a given binary evolution model again and again until \n",
    "\n",
    "(3) the output converges to a certain user-specified benchmark (or you hit the max number of iterations, whichever one happens first) to generate a representative Milky Way fixed population of doubly degenerate binaries.\n",
    "\n",
    "Lucky for us, all those tasks are pretty much included in a single line of code whose output is the *fixed population*. But we'll spend some time exploring what exactly does that line need to run smoothly and what we can do with its outputs.\n",
    "\n",
    "Galactic locations, adequate birth times and mass distribution consistent with a Milky Way model will be assigned in a second phase.\n",
    "\n",
    "\n",
    "\n",
    "\n",
    "\n",
    "\n"
   ]
  },
  {
   "cell_type": "markdown",
   "metadata": {
    "colab_type": "text",
    "id": "t1keteFpybIq"
   },
   "source": [
    "We start by installing the latest stable version, `cosmic 3.2.0` on the notebook.  *Note that the* `!` *is necessary when running* `cosmic` *on the notebook.*"
   ]
  },
  {
   "cell_type": "code",
   "execution_count": null,
   "metadata": {
    "colab": {},
    "colab_type": "code",
    "id": "h9csfXhyBMYK"
   },
   "outputs": [],
   "source": [
    "!pip install -q cosmic-popsynth==3.2.0"
   ]
  },
  {
   "cell_type": "markdown",
   "metadata": {
    "colab_type": "text",
    "id": "QmMBrdNdvRTa"
   },
   "source": [
    "The fixed population is the output of the command `cosmic-pop`, which itself takes the following arguments, or inputs (the `-h` stands for help -- this is just displaying the most important details about the executable) :\n",
    "\n"
   ]
  },
  {
   "cell_type": "code",
   "execution_count": null,
   "metadata": {
    "colab": {
     "base_uri": "https://localhost:8080/",
     "height": 391
    },
    "colab_type": "code",
    "executionInfo": {
     "elapsed": 3674,
     "status": "ok",
     "timestamp": 1578338789969,
     "user": {
      "displayName": "Julie Malewicz",
      "photoUrl": "https://lh3.googleusercontent.com/a-/AAuE7mBIjv6udXo3ZgA51i0jb_g8k2BR8Ymu6z7YIPvOpjE=s64",
      "userId": "04261652567106431934"
     },
     "user_tz": 360
    },
    "id": "24uF73xFvc6j",
    "outputId": "829395e7-6e0b-4d35-efe9-af2e56036e7f"
   },
   "outputs": [
    {
     "name": "stdout",
     "output_type": "stream",
     "text": [
      "usage: cosmic-pop [-h] --inifile INIFILE --final-kstar1 FINAL_KSTAR1\n",
      "                  [FINAL_KSTAR1 ...] --final-kstar2 FINAL_KSTAR2\n",
      "                  [FINAL_KSTAR2 ...] [--Niter NITER] [--Nstep NSTEP]\n",
      "                  [-n NPROC] [--verbose]\n",
      "\n",
      "optional arguments:\n",
      "  -h, --help            show this help message and exit\n",
      "  --inifile INIFILE     Name of ini file of params\n",
      "  --final-kstar1 FINAL_KSTAR1 [FINAL_KSTAR1 ...]\n",
      "                        Specify the final condition of kstar1 , you want\n",
      "                        systems to end at for your samples\n",
      "  --final-kstar2 FINAL_KSTAR2 [FINAL_KSTAR2 ...]\n",
      "                        Specify the final condition of kstar2, you want\n",
      "                        systems to end at for your samples\n",
      "  --Niter NITER         Number of iterations of binaries to try, will check\n",
      "                        ever Nstep for convergence\n",
      "  --Nstep NSTEP         Number of binaries to try before checking for\n",
      "                        convergence, it will check ever Nstep binaries until\n",
      "                        it reach Niter binaries\n",
      "  -n NPROC, --nproc NPROC\n",
      "                        number of processors\n",
      "  --verbose             Run in Verbose Mode\n"
     ]
    }
   ],
   "source": [
    "!cosmic-pop -h"
   ]
  },
  {
   "cell_type": "markdown",
   "metadata": {
    "colab_type": "text",
    "id": "xyun3Z1CzeQN"
   },
   "source": [
    "## Running `COSMIC`\n",
    "\n",
    "You can find more info about the necessary input below, under the section **Some Additional Documentation**, but here's the main idea:\n",
    "\n",
    "\n",
    "The parameters that `cosmic-pop` need to be specified to run are as follows:\n",
    "\n",
    "\n",
    "*   `--inifile` \n",
    "\n",
    "The `Params.ini` file has been slightly modified to ask `cosmic` to output a `ThinDisk` population. The parts about **Binary Star Evolution** models have been left untouched.\n",
    "\n",
    "You just need to have that file in the directory you're currently working in (I haven't checked if specifying a path works but this is Google Colab here so it's a bit different)\n",
    "\n",
    "*   `--final_kstar1` and `--final_kstar2`\n",
    "\n",
    "We want as output a population of white dwarf binaries, but we'll accept neutron stars and black holes. If we decide not to keep those, it will be easy to filter them out later, as we don't expect a large population of those anyway. Hence, the `kstar` values for both primary and secondary stars must be `10`, `11`, or `12` for white dwarfs, `13` for neutron stars or `14` for black holes.\n",
    "\n",
    "The executable line will only accept single numbers (e.g.: `--kstar1 1`) or ranges (e.g.: `--kstar1 1 5`)\n",
    "\n",
    "*   `--Nstep`, `--Niter` and `-n`\n",
    "\n",
    "Now, the last part tells COSMIC to use 1 processor (`-n`) to evolve a maximum of 1e7 systems (`--Niter`) and check in every 5000 systems (`--Nstep`) to track how the shape of the distributions of the parameters specified in convergence-params change."
   ]
  },
  {
   "cell_type": "code",
   "execution_count": null,
   "metadata": {
    "colab": {
     "base_uri": "https://localhost:8080/",
     "height": 119
    },
    "colab_type": "code",
    "executionInfo": {
     "elapsed": 2551,
     "status": "ok",
     "timestamp": 1578338794467,
     "user": {
      "displayName": "Julie Malewicz",
      "photoUrl": "https://lh3.googleusercontent.com/a-/AAuE7mBIjv6udXo3ZgA51i0jb_g8k2BR8Ymu6z7YIPvOpjE=s64",
      "userId": "04261652567106431934"
     },
     "user_tz": 360
    },
    "id": "nCkVXp8OBy6w",
    "outputId": "8e2e0f88-8826-459c-d16e-66fe77a904b3"
   },
   "outputs": [
    {
     "name": "stdout",
     "output_type": "stream",
     "text": [
      "Traceback (most recent call last):\n",
      "  File \"/usr/local/bin/cosmic-pop\", line 103, in <module>\n",
      "    BSEDict, seed_int, filters, convergence, sampling = utils.parse_inifile(args.inifile)\n",
      "  File \"/usr/local/lib/python3.6/dist-packages/cosmic/utils.py\", line 1121, in parse_inifile\n",
      "    BSEDict = dictionary['bse']\n",
      "KeyError: 'bse'\n"
     ]
    }
   ],
   "source": [
    "!cosmic-pop --final-kstar1 10 14 --final-kstar2 10 14 --inifile Params.ini --Nstep 5000 --Niter 10000000 -n 1"
   ]
  },
  {
   "cell_type": "markdown",
   "metadata": {
    "colab_type": "text",
    "id": "UByEAkA5zQiS"
   },
   "source": [
    "Running `cosmic` will output:\n",
    "\n",
    "*   a `log` text file that we can always check for details to see if anything went wrong\n",
    "*   an `h5` file whose subsections can be extracted and read in the console as follows:"
   ]
  },
  {
   "cell_type": "code",
   "execution_count": null,
   "metadata": {
    "colab": {},
    "colab_type": "code",
    "id": "eYdXoatswMfc"
   },
   "outputs": [],
   "source": [
    "import pandas as pd\n",
    "import numpy as np\n",
    "\n",
    "myfile = '/content/dat_ThinDisk_10_14_10_14.h5'\n",
    "\n",
    "conv       = pd.read_hdf(myfile, key='conv')\n",
    "total_mass = pd.read_hdf(myfile, key='mass_stars')\n",
    "N_stars    = pd.read_hdf(myfile, key='n_stars')"
   ]
  },
  {
   "cell_type": "markdown",
   "metadata": {
    "colab_type": "text",
    "id": "Ie-bRfde14PM"
   },
   "source": [
    "## Scaling to an astrophysical population\n",
    "\n",
    "> **Please note that the following uses an extensive amount of RAM, and is therefore impossible to execute on the notebook. It is still detailed here, as the code can be used as is on Quest, for example.**\n",
    "\n",
    "Once the fixed population is simulated, you can scale the simulation to an astrophysical population by resampling the `conv` DataFrame to get a number of systems more in-line with expected Milky Way mass distributions."
   ]
  },
  {
   "cell_type": "code",
   "execution_count": null,
   "metadata": {
    "colab": {},
    "colab_type": "code",
    "id": "qsGn8yt42FmB"
   },
   "outputs": [],
   "source": [
    "from cosmic import MC_samp\n",
    "\n",
    "total_mass = max(np.array(total_mass))[0]\n",
    "total_number_stars = max(np.array(N_stars))[0]\n",
    "\n",
    "N_10_14_10_14_ThinDisk = MC_samp.mass_weighted_number(dat=conv, total_sampled_mass=total_mass, component_mass=MC_samp.select_component_mass('ThinDisk'))\n",
    "\n",
    "thin_disk_sample = conv.sample(n=N_10_14_10_14_ThinDisk, replace=True)"
   ]
  },
  {
   "cell_type": "markdown",
   "metadata": {
    "colab_type": "text",
    "id": "tPHE8UzVqA_M"
   },
   "source": [
    "The following lines of code serve to assign proper birth times and galactic coordinates to each system in our Thin Disk sample:\n",
    "\n",
    "-    Age of the binary\n",
    "\n",
    "What we start by doing is assigning uniformly random birthtimes `tbirth` anywhere from 0 to 10,000 Myr. Now, remember that `tphys` is the time it took each binary to reach the point in their evolutionary history that we recorded in our dataframe.\n",
    "\n",
    "What we then do is filter out of our dataframe the systems for which `tbirth` + `tphys` surpasses the age of the Thin Disk itself, namely, an estimated 10,000 Myr.\n",
    "\n",
    "\n",
    "-    Galactic location of the binary\n"
   ]
  },
  {
   "cell_type": "code",
   "execution_count": null,
   "metadata": {
    "colab": {},
    "colab_type": "code",
    "id": "QZVUdK_Olett"
   },
   "outputs": [],
   "source": [
    "thin_disk_sample['tbirth'] = np.random.uniform(0, 10000, N_10_14_10_14_ThinDisk)\n",
    "thin_disk_sample = thin_disk_sample.loc[thin_disk_sample.tbirth + thin_disk_sample.tphys < 10000]\n",
    "\n",
    "xGx, yGx, zGx, inc, omega, OMEGA = MC_samp.galactic_positions(gx_component='ThinDisk', model='McMillan', size=len(thin_disk_sample))\n",
    "thin_disk_sample['xGx']   = xGx\n",
    "thin_disk_sample['yGx']   = yGx\n",
    "thin_disk_sample['zGx']   = zGx\n",
    "thin_disk_sample['inc']   = inc\n",
    "thin_disk_sample['omega'] = omega\n",
    "thin_disk_sample['OMEGA'] = OMEGA\n",
    "\n",
    "thin_disk_sample"
   ]
  },
  {
   "cell_type": "markdown",
   "metadata": {
    "colab_type": "text",
    "id": "H_-Q6zqCrrhS"
   },
   "source": [
    "Now, here is just another formulation of what's above that is supposed to require less memory.\n",
    "I'm dropping some extraneous columns in the dataframe I do not expect to use and go as far as to slice it into smaller, more manageable chunks."
   ]
  },
  {
   "cell_type": "code",
   "execution_count": null,
   "metadata": {
    "colab": {},
    "colab_type": "code",
    "id": "8jnOGwRXLwXT"
   },
   "outputs": [],
   "source": [
    "thin_disk_sample.drop(['evol_type', 'RROL_1', 'RROL_2', 'sep', \n",
    "                       'Vsys_1', 'Vsys_2', 'SNkick', 'SNtheta', \n",
    "                       'aj_1', 'aj_2', 'tms_1', 'tms_2', \n",
    "                       'massc_1', 'massc_2', 'rad_1', 'rad_2'], \n",
    "                        axis = 1, inplace = True)\n",
    "\n",
    "thin_disk_sample['tbirth'] = np.random.uniform(0, 10000, N_10_14_10_14_ThinDisk)\n",
    "\n",
    "thin_disk_sample = thin_disk_sample.loc[thin_disk_sample.tbirth + thin_disk_sample.tphys < 10000]\n",
    "\n",
    "n = 100000  #chunk row size\n",
    "mylist  = [thin_disk_sample[i:i+n] for i in range(0, thin_disk_sample.shape[0], n)]\n",
    "\n",
    "for boo in range(0, thin_disk_sample.shape[0], n):\n",
    "  mylist[boo] = mylist[boo].loc[mylist[boo].tbirth + mylist[boo].tphys < 10000]\n",
    "\n",
    "thin_disk_sample = pd.concat(list_output)\n",
    "\n",
    "thin_disk_sample.to_csv('thin_disk_WD_NS_BH.csv', index = False)"
   ]
  },
  {
   "cell_type": "markdown",
   "metadata": {
    "colab_type": "text",
    "id": "lXCPJwclsNXk"
   },
   "source": [
    "---\n",
    "# Some additional documentation\n",
    "## Inputs\n",
    "### Some more info about `Params.ini`\n",
    "\n",
    "The unavoidable input file -- it looks like a remnant of the legacy BSE code upon which `cosmic` is built. The existing `cosmic` documentation provides one such file that can be used as is -- but modifying it yourself in your favorite text editor isn't too difficult.\n",
    "\n",
    "[What's the `.ini` format?](https://searchwindowsserver.techtarget.com/definition/INI)\n",
    "\n",
    "What exactly the file contains in detailed on the `cosmic` [documentation website](https://cosmic-popsynth.github.io/docs/stable/inifile/index.html) quite extensively, but for completeness sake, I'll provide a brief overview.\n",
    "\n",
    "\n",
    "#### filters\n",
    "*    What exactly should I retain in the final output files? Do I want only the final state of each binary, or should I keep space for their states mid-evolution? \n",
    "*    Also, do I only want to keep binaries who at the end of the evolution time are still untouched (albeit maybe remnants now) or am I fine with keeping some that have merged or have been disrupted in some way?\n",
    "\n",
    "#### sampling\n",
    "*    What models am I using to generate the initial Zero Age Main Sequence population?\n",
    "*    What galaxy component am I interested in sampling? (each have different star formation history)\n",
    "*    Metallicity\n",
    "\n",
    "#### convergence parameters\n",
    "*    What are the parameters I want to see converging? Mass, eccentricity, orbital period, etc ... ?\n",
    "*    At what evolutionary stage are we checking for that convergence?\n",
    "*    Should we filter out from our `bcm`, `bpp` and `initCond` dataframe the binaries that didn't make the cut into our `conv` dataframe?\n",
    "*    What's my convergence tolerance? How close do the parameters have to be for me to accept them?\n",
    "\n",
    "#### random seed\n",
    "*    for reproducibility. Note that for each iteration inside `cosmic-pop` (meaning, everytime we randomly sample a new ZAMS population), we add `Nstep` to the `numpy.random.seed` used. This is so that each iteration gets a unique, determinable seed.\n",
    "\n",
    "#### BSE \n",
    "*    Sampling flags (set length of time steps for the `bcm` dataframe)\n",
    "*    Wind flags (choose model for wind mass loss & set additional wind parameters)\n",
    "*    Common enveloppe flags\n",
    "*    Kick flags\n",
    "*    Remnant mass flags\n",
    "*    remnant spin flags\n",
    "*    Mass transfer flags\n",
    "*    Tides flags\n",
    "*    White dwarf flags\n",
    "*    Pulsar flags\n",
    "*    Mixing variables\n",
    "*    Magnetic braking flags\n",
    "*    Convective vs. radiative boundaries\n"
   ]
  },
  {
   "cell_type": "markdown",
   "metadata": {
    "colab_type": "text",
    "id": "gH5PQU4UsNqb"
   },
   "source": [
    "### Selecting White Dwarves only\n",
    "The `kstar` value in the output dataframes specifies the evolutionary state of the star.\n",
    "Namely:\n",
    "\n",
    "`kstar` | evolutionary state\n",
    "---     | ---\n",
    "`0`     | Main Sequence < 0.7 ${\\mathrm{M}_\\odot}$\n",
    "`1`     | Main Sequence > 0.7 ${\\mathrm{M}_\\odot}$\n",
    "...     | ...\n",
    "`10`    | Helium White Dwarf\n",
    "`11`    | Carbon/Oxygen White Dwarf\n",
    "`12`    | Oxygen/Neon White Dwarf\n",
    "`13`    | Neutron Star\n",
    "`14`    | Black Hole\n",
    "...     | ...\n"
   ]
  },
  {
   "cell_type": "markdown",
   "metadata": {
    "colab_type": "text",
    "id": "M5rb-R9l8pOS"
   },
   "source": [
    "### Understanding the outputs\n",
    "The `cosmic` outputs are in `pandas.DataFrame` format, a highly polyvalent python object. \n",
    "Variables with the subscript `_1` are referring to the primary star. Conversely, a `_2` ending indicates it is referring to the secondary star.\n",
    "\n",
    "Here are the some of the main outputs you might find laying around\n",
    "\n",
    "#### [`BPP` dataframe](https://cosmic-popsynth.github.io/docs/stable/output_info/index.html#bpp-dataframe)\n",
    "\n",
    "The `BPP` dataframe records a selection of binary parameters at key evolutionary changes, such as `kstar` change, contact, binary disruption or supernova of either primary or secondary.\n",
    "\n",
    "It is the evolutionary history of each binary.\n",
    "\n",
    "parameter   | Name                       |    Units  ..... \n",
    "---         | ---                        |  ---\n",
    "`tphys`     | Evolution time             | $[{\\rm{Myr}}]$\n",
    "`mass_1`    | Primary mass               | $[{\\mathrm{M}_\\odot}]$\n",
    "`kstar_1`   | Primary evolutionary state |\n",
    "`sep`       | Semimajor axis             | $[{\\mathrm{R}_\\odot}]$\n",
    "`porb`      | Orbital period                              | $[{\\rm{days}}]$\n",
    "`RROL_1`    | Primary radius divided by Roche lobe radius |\n",
    "`evol_type` | Type of key moments in evolution            |\n",
    "`Vsys_1`    | Change in systemic velocity due to first SN | $[{\\rm{km/s}}]$\n",
    "`SNkick`    | Magnitude of SN natal kick                  | $[{\\rm{km/s}}]$\n",
    "`SNtheta`   | Angular change in orbital plane due to SN   | $[{\\rm{degrees}}]$\n",
    "`aj_1`      | Effective age of the primary                | $[{\\rm{Myr}}]$\n",
    "`tms_1`     | Primary main sequence lifetime              | $[{\\rm{Myr}}]$\n",
    "`massc_1`   | Primary core mass                           | $[{\\mathrm{M}_\\odot}]$\n",
    "`rad_1`     | Primary radius                              | $[{\\mathrm{R}_\\odot}]$\n",
    "`bin_num`   | Unique binary index that is consistent \n",
    "            | across initial conditions,\n",
    "            | BCM and BPP DataFrames\n",
    "\n",
    "#### [`BCM` dataframe](https://cosmic-popsynth.github.io/docs/stable/output_info/index.html#bcm-dataframe)\n",
    "\n",
    "The `BCM` dataframe records a slightly different selection of binary parameters at user-specified timesteps in the evolution.\n",
    "\n",
    "It is (by default) the final state of each binary.\n",
    "\n",
    "\n",
    "parameter       | Name                          |    Units  .....                    |\n",
    "---             | ---                           |  ---                               | \n",
    "`tphys`         | Evolution time                | $[{\\rm{Myr}}]$                     |\n",
    "`kstar_1`       | Evolutionary state            |\n",
    "`mass0_1`       | Previous evolutionary stage primary mass | $[{\\mathrm{M}_\\odot}]$\n",
    "`mass_1`        | Primary mass                  | $[{\\mathrm{M}_\\odot}]$\n",
    "`lumin_1`       | Primary luminosity            | $[{\\mathrm{L}_\\odot}]$\n",
    "`rad_1`         | Primary radius                | $[{\\mathrm{R}_\\odot}]$\n",
    "`teff_1`        | Primary effective temperature | $[{\\rm{K}}]$\n",
    "`massc_1`       | Primary core mass             | $[{\\mathrm{M}_\\odot}]$\n",
    "`radc_1`        | Primary core radius           | $[{\\mathrm{R}_\\odot}]$\n",
    "`menv_1`        | Primary envelope mass         | $[{\\mathrm{M}_\\odot}]$\n",
    "`renv_1`        | Primary envelope radius       | $[{\\mathrm{R}_\\odot}]$\n",
    "`epoch_1`       | Primary epoch                 | $[\\rm{Myr}]$\n",
    "`ospin_1`       | Primary spin                  | $[\\rm{rad/yr}]$\n",
    "`deltam_1`      | Primary mass transfer rate    | $[{\\mathrm{M}_\\odot/\\rm{yr}}]$\n",
    "`RROL_1`        | Primary radius divided by Roche lobe radius\n",
    "`porb`          | Orbital period                | $[\\rm{days}]$\n",
    "`sep`           | Semimajor axis                | $[\\mathrm{R}_{\\odot}]$\n",
    "`ecc`           | Eccentricity\n",
    "`B_0_1`         | Initial neutron star magnetic field | $[{\\rm{G}}]$\n",
    "`SNkick_1`      | Magnitude of first natal kick       | $[{\\rm{km/s}}]$\n",
    "`Vsys_final`    | Final systemic velocity magnitude   | $[{\\rm{km/s}}]$\n",
    "`SNtheta_final` | Final systemic velocity angle       | $[{\\rm{degrees}}]$\n",
    "`SN_1`          | Supernova type:\n",
    "                | `1` : Fe Core-collapse SN\n",
    "                | `2` : Electron capture SN\n",
    "                | `3` : Ultra-stripped supernovae\n",
    "                | `4` : Accretion induced collapse SN\n",
    "                | `5` : Merger induced collapse\n",
    "                | `6` : Pulsational-pair instability\n",
    "                | `7` : Pair instability SN\n",
    "`bin_state`     | State of the binary: \n",
    "                | `0` : binary\n",
    "                | `1` : merged\n",
    "                | `2` : disrupted\n",
    "`merger_type`   | String of the kstar's in the merger, \n",
    "                | `-001` if not merged\n",
    "`bin_num`       | Unique binary index that is consistent \n",
    "                | across initial conditions,\n",
    "                | BCM and BPP DataFrames\n"
   ]
  },
  {
   "cell_type": "markdown",
   "metadata": {
    "colab_type": "text",
    "id": "_7QKytfNvn6M"
   },
   "source": [
    "---\n",
    "# Additional lines of code for doing things"
   ]
  },
  {
   "cell_type": "code",
   "execution_count": null,
   "metadata": {
    "colab": {
     "base_uri": "https://localhost:8080/",
     "height": 34
    },
    "colab_type": "code",
    "executionInfo": {
     "elapsed": 390,
     "status": "ok",
     "timestamp": 1575923323873,
     "user": {
      "displayName": "Julie Malewicz",
      "photoUrl": "https://lh3.googleusercontent.com/a-/AAuE7mBIjv6udXo3ZgA51i0jb_g8k2BR8Ymu6z7YIPvOpjE=s64",
      "userId": "04261652567106431934"
     },
     "user_tz": 360
    },
    "id": "PfU1hJKP6zJb",
    "outputId": "c714ed14-3620-416f-b081-d3f2d53182ce"
   },
   "outputs": [
    {
     "data": {
      "text/plain": [
       "3665457"
      ]
     },
     "execution_count": 10,
     "metadata": {
      "tags": []
     },
     "output_type": "execute_result"
    }
   ],
   "source": [
    "total_number_stars"
   ]
  }
 ],
 "metadata": {
  "colab": {
   "collapsed_sections": [],
   "machine_shape": "hm",
   "name": "COSMIC4Julie_making_a_milky_way.ipynb",
   "provenance": [
    {
     "file_id": "17O7V_Plfnj6DgAy7TjVHZeDGmoiSrW-h",
     "timestamp": 1575577793792
    },
    {
     "file_id": "1LuTiCNbj4_MVtD5asx4H6joBKYT8MjTp",
     "timestamp": 1574713016408
    }
   ],
   "toc_visible": true
  },
  "kernelspec": {
   "display_name": "Python 3",
   "language": "python",
   "name": "python3"
  },
  "language_info": {
   "codemirror_mode": {
    "name": "ipython",
    "version": 3
   },
   "file_extension": ".py",
   "mimetype": "text/x-python",
   "name": "python",
   "nbconvert_exporter": "python",
   "pygments_lexer": "ipython3",
   "version": "3.7.3"
  }
 },
 "nbformat": 4,
 "nbformat_minor": 1
}

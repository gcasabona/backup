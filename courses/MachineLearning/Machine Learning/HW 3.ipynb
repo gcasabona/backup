{
 "cells": [
  {
   "cell_type": "code",
   "execution_count": 1,
   "metadata": {},
   "outputs": [],
   "source": [
    "#import numpy as np\n",
    "import matplotlib.pyplot as plt\n",
    "import autograd.numpy as np\n",
    "from autograd import grad\n",
    "from sklearn.linear_model import *\n",
    "import sklearn.metrics as metrics"
   ]
  },
  {
   "cell_type": "markdown",
   "metadata": {},
   "source": [
    "# Problem 6.13"
   ]
  },
  {
   "cell_type": "code",
   "execution_count": 2,
   "metadata": {},
   "outputs": [],
   "source": [
    "def model(x, w):\n",
    "    return w[0] + np.dot(x.T, w[1:])\n",
    "\n",
    "def softmax(w):\n",
    "    return np.sum(np.log(1 + np.exp(-y.flatten() * model(x, w)))) / np.size(y)\n",
    "\n",
    "def perceptron(w):\n",
    "    cost = 0\n",
    "    xpTw = -y.flatten() * model(x, w)\n",
    "    for i in range(xpTw.size):\n",
    "        cost += np.max([0, xpTw[i]])\n",
    "    return cost / np.size(y)\n",
    "\n",
    "def classify(x, y, w):\n",
    "    y_p = y.flatten()\n",
    "    I = 0\n",
    "    y_hat_p = np.sign(model(x, w))\n",
    "    for i in range(y.size):\n",
    "        if not np.isclose(y_hat_p[i], y_p[i]):\n",
    "            I += 1\n",
    "    return I"
   ]
  },
  {
   "cell_type": "code",
   "execution_count": 3,
   "metadata": {},
   "outputs": [],
   "source": [
    "data = np.loadtxt(\"breast_cancer_data.csv\", delimiter=',')\n",
    "x, y = data[:-1, :], data[-1:, :]"
   ]
  },
  {
   "cell_type": "code",
   "execution_count": 4,
   "metadata": {},
   "outputs": [
    {
     "name": "stdout",
     "output_type": "stream",
     "text": [
      "Number of mis-classifications:  45\n",
      "Percent misclassified: 6.44 \n"
     ]
    }
   ],
   "source": [
    "w_soft = 3*np.ones(x.shape[0] + 1)\n",
    "cost_soft = []\n",
    "grad_softmax = grad(softmax)\n",
    "for i in range(100):\n",
    "    cost_soft.append(softmax(w_soft))\n",
    "    w_soft -= 0.1 * grad_softmax(w_soft)\n",
    "\n",
    "print(\"Number of mis-classifications: \", classify(x, y, w_soft))\n",
    "print(\"Percent misclassified: %0.2f \" % (100 * classify(x, y, w_soft) / y.size))"
   ]
  },
  {
   "cell_type": "code",
   "execution_count": 5,
   "metadata": {},
   "outputs": [
    {
     "data": {
      "text/plain": [
       "Text(0.5, 1.0, 'Softmax Minimization')"
      ]
     },
     "execution_count": 5,
     "metadata": {},
     "output_type": "execute_result"
    },
    {
     "data": {
      "image/png": "[encoded data removed]",
      "text/plain": [
       "<Figure size 432x288 with 1 Axes>"
      ]
     },
     "metadata": {
      "needs_background": "light"
     },
     "output_type": "display_data"
    }
   ],
   "source": [
    "plt.plot(cost_soft)\n",
    "plt.xlabel(\"k\")\n",
    "plt.ylabel(\"$g(\\\\mathbf{w}^k)$\")\n",
    "plt.title(\"Softmax Minimization\")"
   ]
  },
  {
   "cell_type": "code",
   "execution_count": 6,
   "metadata": {},
   "outputs": [
    {
     "name": "stdout",
     "output_type": "stream",
     "text": [
      "Number of mis-classifications:  33\n",
      "Percent misclassified: 4.72 \n"
     ]
    }
   ],
   "source": [
    "w_per = 3*np.ones(x.shape[0] + 1)\n",
    "cost_per = []\n",
    "grad_percep = grad(perceptron)\n",
    "for i in range(100):\n",
    "    cost_per.append(perceptron(w_per))\n",
    "    w_per -= 0.1 * grad_percep(w_per)\n",
    "\n",
    "print(\"Number of mis-classifications: \", classify(x, y, w_per))\n",
    "print(\"Percent misclassified: %0.2f \" % (100 * classify(x, y, w_per) / y.size))"
   ]
  },
  {
   "cell_type": "code",
   "execution_count": 7,
   "metadata": {},
   "outputs": [
    {
     "data": {
      "text/plain": [
       "Text(0.5, 1.0, 'Perceptron Minimization')"
      ]
     },
     "execution_count": 7,
     "metadata": {},
     "output_type": "execute_result"
    },
    {
     "data": {
      "image/png": "[encoded data removed]",
      "text/plain": [
       "<Figure size 432x288 with 1 Axes>"
      ]
     },
     "metadata": {
      "needs_background": "light"
     },
     "output_type": "display_data"
    }
   ],
   "source": [
    "plt.plot(cost_per)\n",
    "plt.xlabel(\"k\")\n",
    "plt.ylabel(\"$g(\\\\mathbf{w}^k)$\")\n",
    "plt.title(\"Perceptron Minimization\")"
   ]
  },
  {
   "cell_type": "markdown",
   "metadata": {},
   "source": [
    "# Problem 6.15"
   ]
  },
  {
   "cell_type": "code",
   "execution_count": 8,
   "metadata": {},
   "outputs": [
    {
     "name": "stdout",
     "output_type": "stream",
     "text": [
      "(20, 1000) (1, 1000)\n"
     ]
    }
   ],
   "source": [
    "#Load and split the data\n",
    "data = np.loadtxt(\"credit_dataset.csv\", delimiter=',')\n",
    "\n",
    "x, y = data[:-1, :], data[-1:, :]\n",
    "print(x.shape, y.shape)\n",
    "\n",
    "#Transform it via z-score\n",
    "transformed = np.zeros(x.shape)\n",
    "\n",
    "mean = np.nanmean(x, axis=1)\n",
    "std = np.nanstd(x, axis=1)\n",
    "\n",
    "for i in range(len(mean)):\n",
    "    transformed[i, :] = (x[i, :] - mean[i]) / std[i]"
   ]
  },
  {
   "cell_type": "code",
   "execution_count": 9,
   "metadata": {},
   "outputs": [
    {
     "data": {
      "text/plain": [
       "Perceptron(alpha=0.0001, class_weight=None, early_stopping=True, eta0=1.0,\n",
       "           fit_intercept=True, max_iter=100000, n_iter_no_change=5, n_jobs=None,\n",
       "           penalty=None, random_state=0, shuffle=True, tol=0.001,\n",
       "           validation_fraction=0.1, verbose=0, warm_start=True)"
      ]
     },
     "execution_count": 9,
     "metadata": {},
     "output_type": "execute_result"
    }
   ],
   "source": [
    "#Initialize the Perceptron fitter and fit our data\n",
    "clf = Perceptron(max_iter=100000, early_stopping=True, fit_intercept=True, warm_start=True)\n",
    "clf.fit(transformed.T, y.flatten())"
   ]
  },
  {
   "cell_type": "code",
   "execution_count": 10,
   "metadata": {},
   "outputs": [],
   "source": [
    "#Determine the predicted values\n",
    "y_p_hat = clf.predict(transformed.T)"
   ]
  },
  {
   "cell_type": "code",
   "execution_count": 11,
   "metadata": {},
   "outputs": [],
   "source": [
    "#Get elements of confusion matrix\n",
    "A, B, C, D = metrics.confusion_matrix(y.T, y_p_hat).flatten()"
   ]
  },
  {
   "cell_type": "code",
   "execution_count": 12,
   "metadata": {},
   "outputs": [
    {
     "name": "stdout",
     "output_type": "stream",
     "text": [
      "Accuracy of fit: 74.3 percent\n",
      "----------------\n",
      "Good credit correctly predicted:  576\n",
      "Good credit incorrectly predicted:  124\n",
      "Good credit accuracy: 82.3 percent\n",
      "----------------\n",
      "Bad credit correctly predicted:  167\n",
      "Bad credit incorrectly predicted:  133\n",
      "Bad credit accuracy: 55.7 percent\n"
     ]
    }
   ],
   "source": [
    "#Print all the statistical metrics out using the confusion matrix\n",
    "print(\"Accuracy of fit: %0.1f percent\" % (100 * (A + D) / 1000))\n",
    "print(\"----------------\")\n",
    "print(\"Good credit correctly predicted: \", D)\n",
    "print(\"Good credit incorrectly predicted: \", C)\n",
    "print(\"Good credit accuracy: %0.1f percent\" % (100 * D / (C + D)))\n",
    "print(\"----------------\")\n",
    "print(\"Bad credit correctly predicted: \", A)\n",
    "print(\"Bad credit incorrectly predicted: \", B)\n",
    "print(\"Bad credit accuracy: %0.1f percent\" % (100 * A / (A + B)))"
   ]
  },
  {
   "cell_type": "markdown",
   "metadata": {},
   "source": [
    "# Problem 6.16"
   ]
  },
  {
   "cell_type": "code",
   "execution_count": 13,
   "metadata": {},
   "outputs": [
    {
     "name": "stdout",
     "output_type": "stream",
     "text": [
      "(2, 55) (55,)\n"
     ]
    }
   ],
   "source": [
    "data = np.loadtxt(\"3d_classification_data_v2_mbalanced.csv\", delimiter=',')\n",
    "x, y = data[:-1, :], data[-1:, :].flatten()\n",
    "\n",
    "print(x.shape, y.shape)"
   ]
  },
  {
   "cell_type": "code",
   "execution_count": 14,
   "metadata": {},
   "outputs": [],
   "source": [
    "#Softmax regression with no penalty\n",
    "clf = LogisticRegression(multi_class='multinomial', solver='newton-cg', penalty='none')"
   ]
  },
  {
   "cell_type": "code",
   "execution_count": 15,
   "metadata": {},
   "outputs": [
    {
     "name": "stdout",
     "output_type": "stream",
     "text": [
      "Accuracy: 94.5 percent\n"
     ]
    }
   ],
   "source": [
    "#Equal weights and fit the data\n",
    "beta = np.ones(y.shape)\n",
    "clf.fit(x.T, y, sample_weight=beta)\n",
    "\n",
    "#Determine the accuracy\n",
    "y_hat_p = clf.predict(x.T)\n",
    "A, B, C, D = metrics.confusion_matrix(y.T, y_hat_p).flatten()\n",
    "print(\"Accuracy: %0.1f percent\" % (100 * (A + D) / (A + B + C + D)))"
   ]
  },
  {
   "cell_type": "code",
   "execution_count": 16,
   "metadata": {},
   "outputs": [
    {
     "data": {
      "text/plain": [
       "Text(0.5, 0, '$w_1$')"
      ]
     },
     "execution_count": 16,
     "metadata": {},
     "output_type": "execute_result"
    },
    {
     "data": {
      "image/png": "[encoded data removed]",
      "text/plain": [
       "<Figure size 288x216 with 1 Axes>"
      ]
     },
     "metadata": {
      "needs_background": "light"
     },
     "output_type": "display_data"
    }
   ],
   "source": [
    "x_min, x_max = x[0, :].min() - .5, x[0, :].max() + .5\n",
    "y_min, y_max = x[1, :].min() - .5, x[1, :].max() + .5\n",
    "\n",
    "h = .001  # step size in the mesh\n",
    "xx, yy = np.meshgrid(np.arange(x_min, x_max, h), np.arange(y_min, y_max, h))\n",
    "Z = clf.predict(np.c_[xx.ravel(), yy.ravel()])\n",
    "\n",
    "# Put the result into a color plot\n",
    "Z = Z.reshape(xx.shape)\n",
    "plt.figure(1, figsize=(4, 3))\n",
    "plt.pcolormesh(xx, yy, Z, cmap='jet', alpha=0.1)\n",
    "plt.plot(x[0, y==1], x[1, y==1], '.', color='xkcd:bright red')\n",
    "plt.plot(x[0, y==-1], x[1, y==-1], '.', color='xkcd:sky blue')\n",
    "plt.ylabel(\"$w_2$\")\n",
    "plt.xlabel(\"$w_1$\")"
   ]
  },
  {
   "cell_type": "code",
   "execution_count": 17,
   "metadata": {},
   "outputs": [
    {
     "name": "stdout",
     "output_type": "stream",
     "text": [
      "Accuracy: 92.7 percent\n"
     ]
    }
   ],
   "source": [
    "#Red weights 5x higher than others\n",
    "beta = np.ones(y.shape)\n",
    "beta[y == 1] = 5.0\n",
    "clf.fit(x.T, y, sample_weight=beta)\n",
    "\n",
    "#Determine the accuracy\n",
    "y_hat_p = clf.predict(x.T)\n",
    "A, B, C, D = metrics.confusion_matrix(y.T, y_hat_p).flatten()\n",
    "print(\"Accuracy: %0.1f percent\" % (100 * (A + D) / (A + B + C + D)))"
   ]
  },
  {
   "cell_type": "code",
   "execution_count": 18,
   "metadata": {},
   "outputs": [
    {
     "data": {
      "text/plain": [
       "Text(0.5, 0, '$w_1$')"
      ]
     },
     "execution_count": 18,
     "metadata": {},
     "output_type": "execute_result"
    },
    {
     "data": {
      "image/png": "[encoded data removed]",
      "text/plain": [
       "<Figure size 288x216 with 1 Axes>"
      ]
     },
     "metadata": {
      "needs_background": "light"
     },
     "output_type": "display_data"
    }
   ],
   "source": [
    "Z = clf.predict(np.c_[xx.ravel(), yy.ravel()])\n",
    "\n",
    "# Put the result into a color plot\n",
    "Z = Z.reshape(xx.shape)\n",
    "plt.figure(1, figsize=(4, 3))\n",
    "plt.pcolormesh(xx, yy, Z, cmap='jet', alpha=0.1)\n",
    "plt.plot(x[0, y==1], x[1, y==1], '.', color='xkcd:bright red')\n",
    "plt.plot(x[0, y==-1], x[1, y==-1], '.', color='xkcd:sky blue')\n",
    "plt.ylabel(\"$w_2$\")\n",
    "plt.xlabel(\"$w_1$\")"
   ]
  },
  {
   "cell_type": "code",
   "execution_count": 19,
   "metadata": {},
   "outputs": [
    {
     "name": "stdout",
     "output_type": "stream",
     "text": [
      "Accuracy: 90.9 percent\n"
     ]
    }
   ],
   "source": [
    "#Red weights 10x higher than others\n",
    "beta = np.ones(y.shape)\n",
    "beta[y == 1] = 10.0\n",
    "clf.fit(x.T, y, sample_weight=beta)\n",
    "\n",
    "#Get the accuracy\n",
    "y_hat_p = clf.predict(x.T)\n",
    "A, B, C, D = metrics.confusion_matrix(y.T, y_hat_p).flatten()\n",
    "print(\"Accuracy: %0.1f percent\" % (100 * (A + D) / (A + B + C + D)))"
   ]
  },
  {
   "cell_type": "code",
   "execution_count": 20,
   "metadata": {},
   "outputs": [
    {
     "data": {
      "text/plain": [
       "Text(0.5, 0, '$w_1$')"
      ]
     },
     "execution_count": 20,
     "metadata": {},
     "output_type": "execute_result"
    },
    {
     "data": {
      "image/png": "[encoded data removed]",
      "text/plain": [
       "<Figure size 288x216 with 1 Axes>"
      ]
     },
     "metadata": {
      "needs_background": "light"
     },
     "output_type": "display_data"
    }
   ],
   "source": [
    "Z = clf.predict(np.c_[xx.ravel(), yy.ravel()])\n",
    "\n",
    "# Put the result into a color plot\n",
    "Z = Z.reshape(xx.shape)\n",
    "plt.figure(1, figsize=(4, 3))\n",
    "plt.pcolormesh(xx, yy, Z, cmap='jet', alpha=0.1)\n",
    "plt.plot(x[0, y==1], x[1, y==1], '.', color='xkcd:bright red')\n",
    "plt.plot(x[0, y==-1], x[1, y==-1], '.', color='xkcd:sky blue')\n",
    "plt.ylabel(\"$w_2$\")\n",
    "plt.xlabel(\"$w_1$\")"
   ]
  },
  {
   "cell_type": "code",
   "execution_count": null,
   "metadata": {},
   "outputs": [],
   "source": []
  }
 ],
 "metadata": {
  "kernelspec": {
   "display_name": "Python 3",
   "language": "python",
   "name": "python3"
  },
  "language_info": {
   "codemirror_mode": {
    "name": "ipython",
    "version": 3
   },
   "file_extension": ".py",
   "mimetype": "text/x-python",
   "name": "python",
   "nbconvert_exporter": "python",
   "pygments_lexer": "ipython3",
   "version": "3.7.4"
  }
 },
 "nbformat": 4,
 "nbformat_minor": 2
}

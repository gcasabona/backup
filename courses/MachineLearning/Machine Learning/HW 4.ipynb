{
 "cells": [
  {
   "cell_type": "code",
   "execution_count": 1,
   "metadata": {},
   "outputs": [],
   "source": [
    "import numpy as np\n",
    "import matplotlib.pyplot as plt\n",
    "from sklearn.multiclass import *\n",
    "from sklearn.linear_model import *\n",
    "import sklearn.metrics as metrics\n",
    "from sklearn.datasets import fetch_openml\n",
    "from sklearn.model_selection import *\n",
    "from scipy import ndimage\n",
    "\n",
    "import warnings\n",
    "warnings.simplefilter(\"ignore\")"
   ]
  },
  {
   "cell_type": "markdown",
   "metadata": {},
   "source": [
    "# Problem 7.2"
   ]
  },
  {
   "cell_type": "code",
   "execution_count": 2,
   "metadata": {},
   "outputs": [
    {
     "name": "stdout",
     "output_type": "stream",
     "text": [
      "(2, 40)\n",
      "(40,)\n"
     ]
    }
   ],
   "source": [
    "data = np.loadtxt(\"4class_data.csv\", delimiter=',')\n",
    "x, y = data[:-1, :], data[-1:, :].flatten()\n",
    "\n",
    "print(x.shape)\n",
    "print(y.shape)"
   ]
  },
  {
   "cell_type": "code",
   "execution_count": 3,
   "metadata": {},
   "outputs": [
    {
     "data": {
      "text/plain": [
       "OneVsRestClassifier(estimator=Perceptron(alpha=0.0005, class_weight=None,\n",
       "                                         early_stopping=False, eta0=1.0,\n",
       "                                         fit_intercept=True, max_iter=100000,\n",
       "                                         n_iter_no_change=5, n_jobs=None,\n",
       "                                         penalty='l1', random_state=0,\n",
       "                                         shuffle=True, tol=0.001,\n",
       "                                         validation_fraction=0.1, verbose=0,\n",
       "                                         warm_start=False),\n",
       "                    n_jobs=None)"
      ]
     },
     "execution_count": 3,
     "metadata": {},
     "output_type": "execute_result"
    }
   ],
   "source": [
    "OvA = OneVsRestClassifier(Perceptron(max_iter=100000, early_stopping=False,\\\n",
    "                                    fit_intercept=True, warm_start=False, penalty='l1',\\\n",
    "                                    alpha=0.0005))\n",
    "OvA.fit(x.T, y)"
   ]
  },
  {
   "cell_type": "code",
   "execution_count": 4,
   "metadata": {},
   "outputs": [],
   "source": [
    "OvA_pred = OvA.predict(x.T)"
   ]
  },
  {
   "cell_type": "code",
   "execution_count": 5,
   "metadata": {},
   "outputs": [],
   "source": [
    "mat = metrics.confusion_matrix(y.flatten(), OvA_pred)"
   ]
  },
  {
   "cell_type": "code",
   "execution_count": 6,
   "metadata": {},
   "outputs": [
    {
     "data": {
      "text/plain": [
       "array([[9, 1, 0, 0],\n",
       "       [1, 8, 0, 1],\n",
       "       [1, 1, 5, 3],\n",
       "       [0, 1, 0, 9]], dtype=int64)"
      ]
     },
     "execution_count": 6,
     "metadata": {},
     "output_type": "execute_result"
    }
   ],
   "source": [
    "mat"
   ]
  },
  {
   "cell_type": "code",
   "execution_count": 7,
   "metadata": {},
   "outputs": [
    {
     "name": "stdout",
     "output_type": "stream",
     "text": [
      "Number of classifications: 9\n"
     ]
    }
   ],
   "source": [
    "print(\"Number of classifications: %s\" % str(np.sum(mat) - np.sum(np.diag(mat))))"
   ]
  },
  {
   "cell_type": "markdown",
   "metadata": {},
   "source": [
    "# Problem 7.3"
   ]
  },
  {
   "cell_type": "code",
   "execution_count": 8,
   "metadata": {},
   "outputs": [
    {
     "name": "stdout",
     "output_type": "stream",
     "text": [
      "(2, 30)\n",
      "(30,)\n"
     ]
    }
   ],
   "source": [
    "data = np.loadtxt(\"3class_data.csv\", delimiter=',')\n",
    "x, y = data[:-1, :], data[-1:, :].flatten()\n",
    "\n",
    "print(x.shape)\n",
    "print(y.shape)"
   ]
  },
  {
   "cell_type": "code",
   "execution_count": 9,
   "metadata": {},
   "outputs": [],
   "source": [
    "MC = Perceptron(max_iter=100000, early_stopping=False,\\\n",
    "                                    fit_intercept=True, warm_start=False, penalty='l1',\\\n",
    "                                    alpha=0.0005)"
   ]
  },
  {
   "cell_type": "code",
   "execution_count": 10,
   "metadata": {},
   "outputs": [
    {
     "data": {
      "text/plain": [
       "Perceptron(alpha=0.0005, class_weight=None, early_stopping=False, eta0=1.0,\n",
       "           fit_intercept=True, max_iter=100000, n_iter_no_change=5, n_jobs=None,\n",
       "           penalty='l1', random_state=0, shuffle=True, tol=0.001,\n",
       "           validation_fraction=0.1, verbose=0, warm_start=False)"
      ]
     },
     "execution_count": 10,
     "metadata": {},
     "output_type": "execute_result"
    }
   ],
   "source": [
    "MC.fit(x.T, y)"
   ]
  },
  {
   "cell_type": "code",
   "execution_count": 11,
   "metadata": {},
   "outputs": [],
   "source": [
    "pred = MC.predict(x.T)"
   ]
  },
  {
   "cell_type": "code",
   "execution_count": 12,
   "metadata": {},
   "outputs": [],
   "source": [
    "mat = metrics.confusion_matrix(y, pred)"
   ]
  },
  {
   "cell_type": "code",
   "execution_count": 13,
   "metadata": {},
   "outputs": [
    {
     "data": {
      "text/plain": [
       "array([[10,  0,  0],\n",
       "       [ 0, 10,  0],\n",
       "       [ 0,  0, 10]], dtype=int64)"
      ]
     },
     "execution_count": 13,
     "metadata": {},
     "output_type": "execute_result"
    }
   ],
   "source": [
    "mat"
   ]
  },
  {
   "cell_type": "code",
   "execution_count": 14,
   "metadata": {},
   "outputs": [
    {
     "name": "stdout",
     "output_type": "stream",
     "text": [
      "Number of classifications: 0\n"
     ]
    }
   ],
   "source": [
    "print(\"Number of classifications: %s\" % str(np.sum(mat) - np.sum(np.diag(mat))))"
   ]
  },
  {
   "cell_type": "markdown",
   "metadata": {},
   "source": [
    "# Problem 9.2"
   ]
  },
  {
   "cell_type": "code",
   "execution_count": 15,
   "metadata": {},
   "outputs": [],
   "source": [
    "x, y = fetch_openml('mnist_784', version=1, return_X_y = True)\n",
    "y = y.astype(int)"
   ]
  },
  {
   "cell_type": "code",
   "execution_count": 16,
   "metadata": {},
   "outputs": [],
   "source": [
    "X_train, X_test, y_train, y_test = train_test_split(x, y, train_size=50000)"
   ]
  },
  {
   "cell_type": "markdown",
   "metadata": {},
   "source": [
    "## Pixel-based training"
   ]
  },
  {
   "cell_type": "code",
   "execution_count": 17,
   "metadata": {},
   "outputs": [],
   "source": [
    "#Arrays to store test and training histograms\n",
    "pixel_hists_train = np.zeros((X_train.shape[0], 256))\n",
    "pixel_hists_test  = np.zeros((X_test.shape[0], 256))\n",
    "\n",
    "#Training\n",
    "for i in range(pixel_hists_train.shape[0]):\n",
    "    count = np.histogram(X_train[i], bins=256, range=[0, 255])[0]\n",
    "    pixel_hists_train[i, :] = 1.0*count\n",
    "\n",
    "#Test\n",
    "for i in range(pixel_hists_test.shape[0]):\n",
    "    count = np.histogram(X_test[i], bins=256, range=[0, 255])[0]\n",
    "    pixel_hists_test[i, :] = 1.0*count"
   ]
  },
  {
   "cell_type": "code",
   "execution_count": 18,
   "metadata": {},
   "outputs": [],
   "source": [
    "#Arrays to store score and cost functions\n",
    "pix_score = np.array([])\n",
    "pix_cost  = np.array([])\n",
    "\n",
    "#Run through 1 to 20 steps\n",
    "for j in range(1, 21):\n",
    "    softmax = SGDClassifier(loss = 'log', penalty='l1', alpha=0.01, max_iter=j, \\\n",
    "                            early_stopping=False, warm_start=True)\n",
    "    \n",
    "    #Fit and predict\n",
    "    softmax.fit(pixel_hists_train, y_train)\n",
    "    y_pred = softmax.predict_proba(pixel_hists_test)\n",
    "    \n",
    "    #Calculate a score (% right) and cost function; save\n",
    "    pix_score = np.append(pix_score, softmax.score(pixel_hists_test, y_test))\n",
    "    pix_cost  = np.append(pix_cost, metrics.log_loss(y_test, y_pred, normalize=True))"
   ]
  },
  {
   "cell_type": "markdown",
   "metadata": {},
   "source": [
    "## Edge training"
   ]
  },
  {
   "cell_type": "code",
   "execution_count": 19,
   "metadata": {},
   "outputs": [],
   "source": [
    "#Arrays to store test and training histograms\n",
    "edge_hists_train = np.zeros((X_train.shape[0], 8))\n",
    "edge_hists_test = np.zeros((X_test.shape[0], 8))\n",
    "\n",
    "#Training\n",
    "for i in range(edge_hists_train.shape[0]):\n",
    "    reshape = X_train[i].reshape((28, 28))\n",
    "    \n",
    "    #Calculate Gaussian derivatives to find edges in x and y directions\n",
    "    dIdx = ndimage.filters.gaussian_filter(reshape, [1, 1], order=[0,1], mode='nearest')\n",
    "    dIdy = ndimage.filters.gaussian_filter(reshape, [1, 1], order=[1,0], mode='nearest')\n",
    "    \n",
    "    #Determine the angle of the edge\n",
    "    angle = np.arctan(dIdy / dIdx)\n",
    "    \n",
    "    #Make histogram\n",
    "    count = np.histogram(angle, bins=8, range=[-np.pi/2, np.pi/2])[0]\n",
    "    edge_hists_train[i, :] = 1.0 * count\n",
    "    \n",
    "#Test\n",
    "for i in range(edge_hists_test.shape[0]):\n",
    "    reshape = X_test[i].reshape((28, 28))\n",
    "    \n",
    "    dIdx = ndimage.filters.gaussian_filter(reshape, [1, 1], order=[0,1], mode='nearest')\n",
    "    dIdy = ndimage.filters.gaussian_filter(reshape, [1, 1], order=[1,0], mode='nearest')\n",
    "    \n",
    "    angle = np.arctan(dIdy / dIdx)\n",
    "    \n",
    "    count = np.histogram(angle, bins=8, range=[-np.pi/2, np.pi/2])[0]\n",
    "    edge_hists_test[i, :] = 1.0 * count"
   ]
  },
  {
   "cell_type": "code",
   "execution_count": 20,
   "metadata": {},
   "outputs": [],
   "source": [
    "edge_score = np.array([])\n",
    "edge_cost  = np.array([])\n",
    "\n",
    "for j in range(1, 21):\n",
    "    softmax = SGDClassifier(loss = 'log', penalty='l1', alpha=0.01, max_iter=j, \\\n",
    "                            early_stopping=False, warm_start=True)\n",
    "    \n",
    "    softmax.fit(edge_hists_train, y_train)\n",
    "    y_pred = softmax.predict_proba(edge_hists_test)\n",
    "    \n",
    "    edge_score = np.append(edge_score, softmax.score(edge_hists_test, y_test))\n",
    "    edge_cost  = np.append(edge_cost,  metrics.log_loss(y_test, y_pred, normalize=True))"
   ]
  },
  {
   "cell_type": "code",
   "execution_count": 21,
   "metadata": {},
   "outputs": [
    {
     "data": {
      "text/plain": [
       "(0, 20)"
      ]
     },
     "execution_count": 21,
     "metadata": {},
     "output_type": "execute_result"
    },
    {
     "data": {
      "image/png": "[encoded data removed]",
      "text/plain": [
       "<Figure size 432x288 with 1 Axes>"
      ]
     },
     "metadata": {
      "needs_background": "light"
     },
     "output_type": "display_data"
    }
   ],
   "source": [
    "plt.plot(list(range(1, 21)), (1.0 - pix_score) * X_test.shape[0], label=\"Pixel-Based\")\n",
    "plt.plot(list(range(1, 21)), (1.0 - edge_score) * X_test.shape[0], label=\"Edge-Based\")\n",
    "plt.xlabel(\"Iterations\")\n",
    "plt.ylabel(\"Number of Misclassifications\")\n",
    "plt.legend()\n",
    "plt.xlim(0, 20)"
   ]
  },
  {
   "cell_type": "code",
   "execution_count": 22,
   "metadata": {},
   "outputs": [
    {
     "data": {
      "text/plain": [
       "<matplotlib.legend.Legend at 0x25b6ae96408>"
      ]
     },
     "execution_count": 22,
     "metadata": {},
     "output_type": "execute_result"
    },
    {
     "data": {
      "image/png": "[encoded data removed]",
      "text/plain": [
       "<Figure size 432x288 with 1 Axes>"
      ]
     },
     "metadata": {
      "needs_background": "light"
     },
     "output_type": "display_data"
    }
   ],
   "source": [
    "plt.plot(list(range(1, 21)), pix_cost, label=\"Pixel-Based\")\n",
    "plt.plot(list(range(1, 21)), edge_cost, label=\"Edge-Based\")\n",
    "plt.xlabel(\"Iterations\")\n",
    "plt.ylabel(\"Cost\")\n",
    "plt.legend()"
   ]
  }
 ],
 "metadata": {
  "kernelspec": {
   "display_name": "Python 3",
   "language": "python",
   "name": "python3"
  },
  "language_info": {
   "codemirror_mode": {
    "name": "ipython",
    "version": 3
   },
   "file_extension": ".py",
   "mimetype": "text/x-python",
   "name": "python",
   "nbconvert_exporter": "python",
   "pygments_lexer": "ipython3",
   "version": "3.7.4"
  }
 },
 "nbformat": 4,
 "nbformat_minor": 2
}
